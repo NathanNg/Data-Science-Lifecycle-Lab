{
 "cells": [
  {
   "cell_type": "markdown",
   "metadata": {},
   "source": [
    "# Machine Learning Lifecycle Project\n",
    "\n",
    "## This is an exercise in 3 parts:\n",
    "### A. Setup and Message Production\n",
    "### B. Message Consumption and Storage\n",
    "### C. Predictive Modeling with Machine Learning\n",
    "$~$  \n",
    "# A. Setup and Message Production\n",
    "$~$"
   ]
  },
  {
   "cell_type": "markdown",
   "metadata": {},
   "source": [
    "# 1. Installation"
   ]
  },
  {
   "cell_type": "markdown",
   "metadata": {},
   "source": [
    "### Java JDK\n",
    "\n",
    "Install Java JDK\n",
    "https://www.oracle.com/technetwork/java/javase/downloads/jdk12-downloads-5295953.html\n",
    "\n",
    "Set Java Environment Variables \n",
    "https://javatutorial.net/set-java-home-windows-10"
   ]
  },
  {
   "cell_type": "markdown",
   "metadata": {},
   "source": [
    "### Kafka\n",
    "\n",
    "Download and Unzip Kafka – Binary Version.\n",
    "https://kafka.apache.org/downloads\n",
    "\n",
    "Edit Kafka Properties\n",
    "Go to config folder in Apache Kafka and edit server.properties using text editor if desired:\n",
    "\n",
    "   Find log.dirs and replace path with preferred log location (C:\\\\Kafka\\\\Logs)."
   ]
  },
  {
   "cell_type": "markdown",
   "metadata": {},
   "source": [
    "### PostgreSQL\n",
    "\n",
    "Install Postgres\n",
    "\n",
    "https://www.postgresql.org/download/windows/\n",
    "\n",
    "password=postgres\n",
    "\n",
    "port=5432\n"
   ]
  },
  {
   "cell_type": "markdown",
   "metadata": {},
   "source": [
    "# 2. System Initialization"
   ]
  },
  {
   "cell_type": "markdown",
   "metadata": {},
   "source": [
    "### Kafka\n",
    "Notes:\n",
    "Be sure to run command windows as administrator\n",
    "\n",
    "My installation folder: kafka\\kafka_2.11-2.2.0\\bin\\windows\n",
    "\n",
    "#### Start Zookeeper\n",
    "\n",
    "zookeeper-server-start.bat ..\\..\\config\\zookeeper.properties - from bin/windows\n",
    "\n",
    "#### Stop Zookeeper (only when needed)\n",
    "\n",
    "zookeeper-server-stop.bat config/zookeeper.properties - from bin/windows\n",
    "\n",
    "#### Start Kafka\n",
    "\n",
    "kafka-server-start.bat ..\\..\\config\\server.properties - from bin/windows\n",
    "\n",
    "#### Stop Kafka (only when needed)\n",
    "\n",
    "kafka-server-stop.bat config/server.properties - from bin/windows\n",
    "\n",
    "#### Ensure Zookeeper and Kafka are Running\n",
    "\n",
    "jps\n",
    "\n",
    "You should see jps, QuorumPeerMain for zookeeper and kafka all listed\n",
    "\n",
    "#### Create Topics\n",
    "\n",
    "kafka-topics.bat --create --zookeeper localhost:2181 --topic RawData --partitions 1 --replication-factor 1\n",
    "\n",
    "kafka-topics.bat --create --zookeeper localhost:2181 --topic Results --partitions 1 --replication-factor 1\n",
    "\n",
    "### Helpful Scripts\n",
    "\n",
    "#### List and Describe Topics\n",
    "\n",
    "kafka-topics.bat --list --zookeeper localhost:2181\n",
    "\n",
    "kafka-topics.bat --describe --zookeeper localhost:2181 --topic RawData\n",
    "\n",
    "#### List and Describe Groups\n",
    "\n",
    "kafka-consumer-groups.bat  -bootstrap-server localhost:9092 -list\n",
    "\n",
    "kafka-run-class.bat kafka.admin.ConsumerGroupCommand --group GROUPNAME --bootstrap-server localhost:9092 --describe\n",
    "\n",
    "#### See Messages in Console\n",
    "\n",
    "kafka-console-consumer.bat --bootstrap-server localhost:9092 --topic RawData --from-beginning\n",
    "\n",
    "kafka-console-consumer.bat --bootstrap-server localhost:9092 --topic Results --from-beginning\n",
    "\n",
    "### PostgreSQL\n",
    "\n",
    "#### Create Database\n",
    "CREATE DATABASE messaging;\n",
    "\n",
    "CONNECT messaging;\n",
    "\n",
    "#### Create Tables\n",
    "CREATE TABLE RawData(Key INTEGER PRIMARY KEY, X FLOAT(10) NOT NULL, Y FLOAT(10) NOT NULL);\n",
    "\n",
    "CREATE TABLE Results(Key INTEGER PRIMARY KEY, Result BOOLEAN NOT NULL);\n",
    "\n",
    "CREATE TABLE Predictions(Key INTEGER PRIMARY KEY, Prediction BOOLEAN);\n",
    "\n",
    "CREATE TABLE predtemp(Key INTEGER PRIMARY KEY, Prediction BOOLEAN);"
   ]
  },
  {
   "cell_type": "markdown",
   "metadata": {},
   "source": [
    "# 3. Key Parameters"
   ]
  },
  {
   "cell_type": "code",
   "execution_count": 893,
   "metadata": {},
   "outputs": [],
   "source": [
    "#metric for label:\n",
    "metric=0.0\n",
    "#batch size:\n",
    "size=1000"
   ]
  },
  {
   "cell_type": "markdown",
   "metadata": {},
   "source": [
    "# 4. Validate PostgreSQL Connection "
   ]
  },
  {
   "cell_type": "code",
   "execution_count": 894,
   "metadata": {},
   "outputs": [],
   "source": [
    "#import packages\n",
    "import pandas as pd \n",
    "import matplotlib\n",
    "import matplotlib.pyplot as plt\n",
    "import numpy as np\n",
    "import sklearn as sk\n",
    "from sklearn.model_selection import train_test_split\n",
    "from sklearn.neighbors import KNeighborsClassifier\n",
    "from sklearn.metrics import classification_report, confusion_matrix, accuracy_score \n",
    "import sys, os\n",
    "import json\n",
    "from time import sleep\n",
    "from kafka import KafkaConsumer\n",
    "from kafka import KafkaProducer\n",
    "import psycopg2\n",
    "import pandas.io.sql as psql\n",
    "%matplotlib inline"
   ]
  },
  {
   "cell_type": "code",
   "execution_count": 895,
   "metadata": {},
   "outputs": [
    {
     "name": "stdout",
     "output_type": "stream",
     "text": [
      "PostgreSQL database version: ('PostgreSQL 11.2, compiled by Visual C++ build 1914, 64-bit',)\n"
     ]
    }
   ],
   "source": [
    "#connect to PostgreSQL and confirm with version\n",
    "conn_string = \"host=localhost port=5432 dbname=messaging user=postgres password=postgres\"\n",
    "connection=psycopg2.connect(conn_string)\n",
    "cursor = connection.cursor()\n",
    "cursor.execute('SELECT version()')\n",
    "db_version = cursor.fetchone()\n",
    "print('PostgreSQL database version:',db_version)"
   ]
  },
  {
   "cell_type": "code",
   "execution_count": 901,
   "metadata": {},
   "outputs": [
    {
     "name": "stdout",
     "output_type": "stream",
     "text": [
      "13000 = last key written to PostgreSQL\n"
     ]
    }
   ],
   "source": [
    "#request last record key from PostgreSQL\n",
    "cursor = connection.cursor()\n",
    "cursor.execute(\"select max(key) from RawData\")\n",
    "startkey = cursor.fetchone()\n",
    "if startkey[0] == None:\n",
    "    startkey = 0\n",
    "else:\n",
    "    startkey = int(startkey[0])\n",
    "print(startkey,\"= last key written to PostgreSQL\")"
   ]
  },
  {
   "cell_type": "markdown",
   "metadata": {},
   "source": [
    "# 5. Produce Data Messages"
   ]
  },
  {
   "cell_type": "code",
   "execution_count": 897,
   "metadata": {},
   "outputs": [],
   "source": [
    "#establish kafka producer\n",
    "producer = KafkaProducer(bootstrap_servers='localhost:9092', api_version=(0,10,1))"
   ]
  },
  {
   "cell_type": "code",
   "execution_count": 898,
   "metadata": {},
   "outputs": [],
   "source": [
    "#json structure for message encoding\n",
    "def create_RawData_json(key,x,y):\n",
    "    return {\n",
    "        'key': key,\n",
    "        'x': x,\n",
    "        'y': y,\n",
    "    }\n",
    "\n",
    "def create_Result_json(key,Results):\n",
    "    return {\n",
    "        'key': key,\n",
    "        'result': result,\n",
    "    }"
   ]
  },
  {
   "cell_type": "code",
   "execution_count": 899,
   "metadata": {},
   "outputs": [
    {
     "name": "stdout",
     "output_type": "stream",
     "text": [
      "5000 Raw Data and Result messages produced in kafka\n"
     ]
    }
   ],
   "source": [
    "#generate json messages, encode and send in loop \n",
    "key=startkey\n",
    "RawDataList=[]\n",
    "ResultsList=[]\n",
    "for i in range(size):\n",
    "    key=key+1\n",
    "    x=np.random.rand()*2-1\n",
    "    y=np.random.rand()*2-1\n",
    "    z=np.random.rand()*.2-.1\n",
    "    result=x*y+z>metric\n",
    "    \n",
    "    rawsample=create_RawData_json(key,x,y)\n",
    "    message_RawData=json.dumps(rawsample)\n",
    "    #print(message_RawData)\n",
    "    producer.send('RawData', key=bytes(key), value=message_RawData.encode())\n",
    "    \n",
    "    rawresult=create_Result_json(key,result)\n",
    "    message_Result=json.dumps(rawresult)\n",
    "    #print(message_Result)\n",
    "    producer.send('Results', key=bytes(key), value=message_Result.encode())\n",
    "    \n",
    "print(key-startkey,\"Raw Data and Result messages produced in kafka\")"
   ]
  },
  {
   "attachments": {
    "image.png": {
     "image/png": "[encoded data removed]"
    }
   },
   "cell_type": "markdown",
   "metadata": {},
   "source": [
    "![image.png](attachment:image.png)"
   ]
  },
  {
   "attachments": {
    "image.png": {
     "image/png": "[encoded data removed]"
    }
   },
   "cell_type": "markdown",
   "metadata": {},
   "source": [
    "![image.png](attachment:image.png)"
   ]
  },
  {
   "cell_type": "markdown",
   "metadata": {},
   "source": [
    "#### PostgreSQL Utility Code"
   ]
  },
  {
   "cell_type": "code",
   "execution_count": 900,
   "metadata": {},
   "outputs": [],
   "source": [
    "#rollback on error break\n",
    "#cursor = connection.cursor()\n",
    "#cursor.execute(\"\"\" rollback;\"\"\")"
   ]
  }
 ],
 "metadata": {
  "kernelspec": {
   "display_name": "Python 3",
   "language": "python",
   "name": "python3"
  },
  "language_info": {
   "codemirror_mode": {
    "name": "ipython",
    "version": 3
   },
   "file_extension": ".py",
   "mimetype": "text/x-python",
   "name": "python",
   "nbconvert_exporter": "python",
   "pygments_lexer": "ipython3",
   "version": "3.7.1"
  }
 },
 "nbformat": 4,
 "nbformat_minor": 2
}
